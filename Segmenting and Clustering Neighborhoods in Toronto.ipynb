{
    "cells": [
        {
            "cell_type": "code",
            "execution_count": 83,
            "metadata": {
                "scrolled": false
            },
            "outputs": [
                {
                    "name": "stdout",
                    "output_type": "stream",
                    "text": "Requirement already satisfied: geopy in /opt/conda/envs/Python36/lib/python3.6/site-packages (1.18.1)\nRequirement already satisfied: geographiclib<2,>=1.49 in /opt/conda/envs/Python36/lib/python3.6/site-packages (from geopy) (1.49)\nLibraries imported.\n"
                }
            ],
            "source": "import pandas as pd\nimport numpy as np\nimport json # library to handle JSON files\n\n!pip install geopy\n\nimport requests # library to handle requests\n\nfrom pandas.io.json import json_normalize # tranform JSON file into a pandas dataframe\n\nprint('Libraries imported.')"
        },
        {
            "cell_type": "markdown",
            "metadata": {},
            "source": "# First Part\nThis part contains extracting the data from Wikipedia and processing it into a dataframe by removing 'Not Assigned' Boroughs and formating the Neighborhood column according to specifications.\n\nThe only assumption made is that there are no Neighboorhoods that are not named (except for those Not Assigned Boroughs) and that can be seen in the Wikipedia page. "
        },
        {
            "cell_type": "code",
            "execution_count": 103,
            "metadata": {},
            "outputs": [
                {
                    "data": {
                        "text/plain": "Not assigned        77\nNorth York          24\nDowntown Toronto    19\nScarborough         17\nEtobicoke           12\nCentral Toronto      9\nWest Toronto         6\nEast Toronto         5\nYork                 5\nEast York            5\nMississauga          1\nName: Borough, dtype: int64"
                    },
                    "execution_count": 103,
                    "metadata": {},
                    "output_type": "execute_result"
                }
            ],
            "source": "url_html='https://en.wikipedia.org/wiki/List_of_postal_codes_of_Canada:_M'\n\ndf = pd.read_html(url_html) #load into a data frame\ndf = df[0]\ndf['Borough'].value_counts() #Find how many boroughs are not assigned"
        },
        {
            "cell_type": "code",
            "execution_count": 107,
            "metadata": {
                "scrolled": false
            },
            "outputs": [],
            "source": "df.dropna(inplace = True) #drop 'Not Assigned' boroughs"
        },
        {
            "cell_type": "code",
            "execution_count": 108,
            "metadata": {},
            "outputs": [],
            "source": "#Format DF\ndf.reset_index(inplace=True)\ndf.drop(columns = 'index',inplace =True)"
        },
        {
            "cell_type": "code",
            "execution_count": 109,
            "metadata": {},
            "outputs": [],
            "source": "# Create new columns and set them as the dataframe's columns\ncolumns = ['PostalCode', 'Borough', 'Neighborhood']\ndf.columns = columns"
        },
        {
            "cell_type": "code",
            "execution_count": 110,
            "metadata": {
                "scrolled": true
            },
            "outputs": [
                {
                    "data": {
                        "text/plain": "PostalCode      object\nBorough         object\nNeighborhood    object\ndtype: object"
                    },
                    "execution_count": 110,
                    "metadata": {},
                    "output_type": "execute_result"
                }
            ],
            "source": "df.dtypes"
        },
        {
            "cell_type": "code",
            "execution_count": 112,
            "metadata": {},
            "outputs": [],
            "source": "hood = df['Neighborhood']\nneighborhood = hood.str.replace('/',',') # Replace parentheses with commas as requested.\nneighborhood = pd.DataFrame(neighborhood)"
        },
        {
            "cell_type": "code",
            "execution_count": 113,
            "metadata": {},
            "outputs": [],
            "source": "df.drop(columns = 'Neighborhood',inplace =True) #drop original Neighborhood column that contains parentheses to separate neighborhoods\n\ndf1 =pd.concat([df,neighborhood], axis = 1, sort=False) #Join orignal dataframe to the neighborhood dataframe, which contains the changes made"
        },
        {
            "cell_type": "markdown",
            "metadata": {},
            "source": "Below is the .shape method to print the number of rows of your dataframe."
        },
        {
            "cell_type": "code",
            "execution_count": 115,
            "metadata": {},
            "outputs": [
                {
                    "name": "stdout",
                    "output_type": "stream",
                    "text": "Shape of DataFrame: (103, 3)\n"
                },
                {
                    "data": {
                        "text/html": "<div>\n<style scoped>\n    .dataframe tbody tr th:only-of-type {\n        vertical-align: middle;\n    }\n\n    .dataframe tbody tr th {\n        vertical-align: top;\n    }\n\n    .dataframe thead th {\n        text-align: right;\n    }\n</style>\n<table border=\"1\" class=\"dataframe\">\n  <thead>\n    <tr style=\"text-align: right;\">\n      <th></th>\n      <th>PostalCode</th>\n      <th>Borough</th>\n      <th>Neighborhood</th>\n    </tr>\n  </thead>\n  <tbody>\n    <tr>\n      <th>0</th>\n      <td>M3A</td>\n      <td>North York</td>\n      <td>Parkwoods</td>\n    </tr>\n    <tr>\n      <th>1</th>\n      <td>M4A</td>\n      <td>North York</td>\n      <td>Victoria Village</td>\n    </tr>\n    <tr>\n      <th>2</th>\n      <td>M5A</td>\n      <td>Downtown Toronto</td>\n      <td>Regent Park , Harbourfront</td>\n    </tr>\n    <tr>\n      <th>3</th>\n      <td>M6A</td>\n      <td>North York</td>\n      <td>Lawrence Manor , Lawrence Heights</td>\n    </tr>\n    <tr>\n      <th>4</th>\n      <td>M7A</td>\n      <td>Downtown Toronto</td>\n      <td>Queen's Park , Ontario Provincial Government</td>\n    </tr>\n    <tr>\n      <th>5</th>\n      <td>M9A</td>\n      <td>Etobicoke</td>\n      <td>Islington Avenue</td>\n    </tr>\n    <tr>\n      <th>6</th>\n      <td>M1B</td>\n      <td>Scarborough</td>\n      <td>Malvern , Rouge</td>\n    </tr>\n    <tr>\n      <th>7</th>\n      <td>M3B</td>\n      <td>North York</td>\n      <td>Don Mills</td>\n    </tr>\n    <tr>\n      <th>8</th>\n      <td>M4B</td>\n      <td>East York</td>\n      <td>Parkview Hill , Woodbine Gardens</td>\n    </tr>\n    <tr>\n      <th>9</th>\n      <td>M5B</td>\n      <td>Downtown Toronto</td>\n      <td>Garden District, Ryerson</td>\n    </tr>\n  </tbody>\n</table>\n</div>",
                        "text/plain": "  PostalCode           Borough                                  Neighborhood\n0        M3A        North York                                     Parkwoods\n1        M4A        North York                              Victoria Village\n2        M5A  Downtown Toronto                    Regent Park , Harbourfront\n3        M6A        North York             Lawrence Manor , Lawrence Heights\n4        M7A  Downtown Toronto  Queen's Park , Ontario Provincial Government\n5        M9A         Etobicoke                              Islington Avenue\n6        M1B       Scarborough                               Malvern , Rouge\n7        M3B        North York                                     Don Mills\n8        M4B         East York              Parkview Hill , Woodbine Gardens\n9        M5B  Downtown Toronto                      Garden District, Ryerson"
                    },
                    "execution_count": 115,
                    "metadata": {},
                    "output_type": "execute_result"
                }
            ],
            "source": "print(\"Shape of DataFrame: {}\".format(df1.shape)) \ndf1.head(10)"
        },
        {
            "cell_type": "markdown",
            "metadata": {},
            "source": "# Second Part\nIn this part, the latitudes and longitudes of the different locations are retrieved, by the postal code, using Geocoder. "
        },
        {
            "cell_type": "code",
            "execution_count": 93,
            "metadata": {},
            "outputs": [
                {
                    "name": "stdout",
                    "output_type": "stream",
                    "text": "Requirement already satisfied: geocoder==1.5. in /opt/conda/envs/Python36/lib/python3.6/site-packages (1.5.0)\nRequirement already satisfied: ratelim in /opt/conda/envs/Python36/lib/python3.6/site-packages (from geocoder==1.5.) (0.1.6)\nRequirement already satisfied: six in /opt/conda/envs/Python36/lib/python3.6/site-packages (from geocoder==1.5.) (1.12.0)\nRequirement already satisfied: click in /opt/conda/envs/Python36/lib/python3.6/site-packages (from geocoder==1.5.) (7.0)\nRequirement already satisfied: requests in /opt/conda/envs/Python36/lib/python3.6/site-packages (from geocoder==1.5.) (2.21.0)\nRequirement already satisfied: decorator in /opt/conda/envs/Python36/lib/python3.6/site-packages (from ratelim->geocoder==1.5.) (4.3.2)\nRequirement already satisfied: certifi>=2017.4.17 in /opt/conda/envs/Python36/lib/python3.6/site-packages (from requests->geocoder==1.5.) (2020.4.5.1)\nRequirement already satisfied: urllib3<1.25,>=1.21.1 in /opt/conda/envs/Python36/lib/python3.6/site-packages (from requests->geocoder==1.5.) (1.24.1)\nRequirement already satisfied: idna<2.9,>=2.5 in /opt/conda/envs/Python36/lib/python3.6/site-packages (from requests->geocoder==1.5.) (2.8)\nRequirement already satisfied: chardet<3.1.0,>=3.0.2 in /opt/conda/envs/Python36/lib/python3.6/site-packages (from requests->geocoder==1.5.) (3.0.4)\n"
                }
            ],
            "source": "!pip install geocoder==1.5. #install geocoder"
        },
        {
            "cell_type": "code",
            "execution_count": 94,
            "metadata": {},
            "outputs": [],
            "source": "col_names = ['Latitude', 'Longitude']\ncols = pd.DataFrame(columns=col_names)"
        },
        {
            "cell_type": "code",
            "execution_count": 95,
            "metadata": {},
            "outputs": [],
            "source": "import geocoder # import geocoder\n\n\nfor code in df['PostalCode']: #For loop to go through all the postal code values\n    \n    zip_code = code #initalizating variable for postal code\n    \n    lat_lng_coords = None \n    \n    while(lat_lng_coords is None):\n        g = geocoder.arcgis('{}, Toronto, Ontario'.format(zip_code))\n        lat_lng_coords = g.latlng\n\n    \n    latitude = lat_lng_coords[0]\n    longitude = lat_lng_coords[1]\n    \n    cols = cols.append({'Latitude': latitude,\n                       'Longitude': longitude}, ignore_index=True) #append all the values into the dataframe"
        },
        {
            "cell_type": "code",
            "execution_count": 96,
            "metadata": {},
            "outputs": [
                {
                    "data": {
                        "text/html": "<div>\n<style scoped>\n    .dataframe tbody tr th:only-of-type {\n        vertical-align: middle;\n    }\n\n    .dataframe tbody tr th {\n        vertical-align: top;\n    }\n\n    .dataframe thead th {\n        text-align: right;\n    }\n</style>\n<table border=\"1\" class=\"dataframe\">\n  <thead>\n    <tr style=\"text-align: right;\">\n      <th></th>\n      <th>Latitude</th>\n      <th>Longitude</th>\n    </tr>\n  </thead>\n  <tbody>\n    <tr>\n      <th>0</th>\n      <td>43.752935</td>\n      <td>-79.335641</td>\n    </tr>\n    <tr>\n      <th>1</th>\n      <td>43.728102</td>\n      <td>-79.311890</td>\n    </tr>\n    <tr>\n      <th>2</th>\n      <td>43.650964</td>\n      <td>-79.353041</td>\n    </tr>\n    <tr>\n      <th>3</th>\n      <td>43.723265</td>\n      <td>-79.451211</td>\n    </tr>\n    <tr>\n      <th>4</th>\n      <td>43.661790</td>\n      <td>-79.389390</td>\n    </tr>\n    <tr>\n      <th>5</th>\n      <td>43.667481</td>\n      <td>-79.528953</td>\n    </tr>\n    <tr>\n      <th>6</th>\n      <td>43.808626</td>\n      <td>-79.189913</td>\n    </tr>\n    <tr>\n      <th>7</th>\n      <td>43.748900</td>\n      <td>-79.357220</td>\n    </tr>\n    <tr>\n      <th>8</th>\n      <td>43.707193</td>\n      <td>-79.311529</td>\n    </tr>\n    <tr>\n      <th>9</th>\n      <td>43.657491</td>\n      <td>-79.377529</td>\n    </tr>\n    <tr>\n      <th>10</th>\n      <td>43.707279</td>\n      <td>-79.447500</td>\n    </tr>\n    <tr>\n      <th>11</th>\n      <td>43.650023</td>\n      <td>-79.554089</td>\n    </tr>\n    <tr>\n      <th>12</th>\n      <td>43.785779</td>\n      <td>-79.157368</td>\n    </tr>\n    <tr>\n      <th>13</th>\n      <td>43.722143</td>\n      <td>-79.352023</td>\n    </tr>\n    <tr>\n      <th>14</th>\n      <td>43.689740</td>\n      <td>-79.308507</td>\n    </tr>\n    <tr>\n      <th>15</th>\n      <td>43.651734</td>\n      <td>-79.375554</td>\n    </tr>\n    <tr>\n      <th>16</th>\n      <td>43.691730</td>\n      <td>-79.430013</td>\n    </tr>\n    <tr>\n      <th>17</th>\n      <td>43.637813</td>\n      <td>-79.576484</td>\n    </tr>\n    <tr>\n      <th>18</th>\n      <td>43.765806</td>\n      <td>-79.185284</td>\n    </tr>\n    <tr>\n      <th>19</th>\n      <td>43.678148</td>\n      <td>-79.295349</td>\n    </tr>\n  </tbody>\n</table>\n</div>",
                        "text/plain": "     Latitude  Longitude\n0   43.752935 -79.335641\n1   43.728102 -79.311890\n2   43.650964 -79.353041\n3   43.723265 -79.451211\n4   43.661790 -79.389390\n5   43.667481 -79.528953\n6   43.808626 -79.189913\n7   43.748900 -79.357220\n8   43.707193 -79.311529\n9   43.657491 -79.377529\n10  43.707279 -79.447500\n11  43.650023 -79.554089\n12  43.785779 -79.157368\n13  43.722143 -79.352023\n14  43.689740 -79.308507\n15  43.651734 -79.375554\n16  43.691730 -79.430013\n17  43.637813 -79.576484\n18  43.765806 -79.185284\n19  43.678148 -79.295349"
                    },
                    "execution_count": 96,
                    "metadata": {},
                    "output_type": "execute_result"
                }
            ],
            "source": "cols.head(20)"
        },
        {
            "cell_type": "code",
            "execution_count": 97,
            "metadata": {},
            "outputs": [],
            "source": "df2 = pd.concat([df1,cols],axis = 1, sort=False) #concatenate the coordinates dataframe and the locations dataframe"
        },
        {
            "cell_type": "code",
            "execution_count": 98,
            "metadata": {},
            "outputs": [
                {
                    "data": {
                        "text/html": "<div>\n<style scoped>\n    .dataframe tbody tr th:only-of-type {\n        vertical-align: middle;\n    }\n\n    .dataframe tbody tr th {\n        vertical-align: top;\n    }\n\n    .dataframe thead th {\n        text-align: right;\n    }\n</style>\n<table border=\"1\" class=\"dataframe\">\n  <thead>\n    <tr style=\"text-align: right;\">\n      <th></th>\n      <th>PostalCode</th>\n      <th>Borough</th>\n      <th>Neighborhood</th>\n      <th>Latitude</th>\n      <th>Longitude</th>\n    </tr>\n  </thead>\n  <tbody>\n    <tr>\n      <th>0</th>\n      <td>M3A</td>\n      <td>North York</td>\n      <td>Parkwoods</td>\n      <td>43.752935</td>\n      <td>-79.335641</td>\n    </tr>\n    <tr>\n      <th>1</th>\n      <td>M4A</td>\n      <td>North York</td>\n      <td>Victoria Village</td>\n      <td>43.728102</td>\n      <td>-79.311890</td>\n    </tr>\n    <tr>\n      <th>2</th>\n      <td>M5A</td>\n      <td>Downtown Toronto</td>\n      <td>Regent Park , Harbourfront</td>\n      <td>43.650964</td>\n      <td>-79.353041</td>\n    </tr>\n    <tr>\n      <th>3</th>\n      <td>M6A</td>\n      <td>North York</td>\n      <td>Lawrence Manor , Lawrence Heights</td>\n      <td>43.723265</td>\n      <td>-79.451211</td>\n    </tr>\n    <tr>\n      <th>4</th>\n      <td>M7A</td>\n      <td>Downtown Toronto</td>\n      <td>Queen's Park , Ontario Provincial Government</td>\n      <td>43.661790</td>\n      <td>-79.389390</td>\n    </tr>\n    <tr>\n      <th>5</th>\n      <td>M9A</td>\n      <td>Etobicoke</td>\n      <td>Islington Avenue</td>\n      <td>43.667481</td>\n      <td>-79.528953</td>\n    </tr>\n    <tr>\n      <th>6</th>\n      <td>M1B</td>\n      <td>Scarborough</td>\n      <td>Malvern , Rouge</td>\n      <td>43.808626</td>\n      <td>-79.189913</td>\n    </tr>\n    <tr>\n      <th>7</th>\n      <td>M3B</td>\n      <td>North York</td>\n      <td>Don Mills</td>\n      <td>43.748900</td>\n      <td>-79.357220</td>\n    </tr>\n    <tr>\n      <th>8</th>\n      <td>M4B</td>\n      <td>East York</td>\n      <td>Parkview Hill , Woodbine Gardens</td>\n      <td>43.707193</td>\n      <td>-79.311529</td>\n    </tr>\n    <tr>\n      <th>9</th>\n      <td>M5B</td>\n      <td>Downtown Toronto</td>\n      <td>Garden District, Ryerson</td>\n      <td>43.657491</td>\n      <td>-79.377529</td>\n    </tr>\n  </tbody>\n</table>\n</div>",
                        "text/plain": "  PostalCode           Borough                                  Neighborhood  \\\n0        M3A        North York                                     Parkwoods   \n1        M4A        North York                              Victoria Village   \n2        M5A  Downtown Toronto                    Regent Park , Harbourfront   \n3        M6A        North York             Lawrence Manor , Lawrence Heights   \n4        M7A  Downtown Toronto  Queen's Park , Ontario Provincial Government   \n5        M9A         Etobicoke                              Islington Avenue   \n6        M1B       Scarborough                               Malvern , Rouge   \n7        M3B        North York                                     Don Mills   \n8        M4B         East York              Parkview Hill , Woodbine Gardens   \n9        M5B  Downtown Toronto                      Garden District, Ryerson   \n\n    Latitude  Longitude  \n0  43.752935 -79.335641  \n1  43.728102 -79.311890  \n2  43.650964 -79.353041  \n3  43.723265 -79.451211  \n4  43.661790 -79.389390  \n5  43.667481 -79.528953  \n6  43.808626 -79.189913  \n7  43.748900 -79.357220  \n8  43.707193 -79.311529  \n9  43.657491 -79.377529  "
                    },
                    "execution_count": 98,
                    "metadata": {},
                    "output_type": "execute_result"
                }
            ],
            "source": "df2.head(10)"
        },
        {
            "cell_type": "code",
            "execution_count": null,
            "metadata": {},
            "outputs": [],
            "source": ""
        }
    ],
    "metadata": {
        "kernelspec": {
            "display_name": "Python 3.6",
            "language": "python",
            "name": "python3"
        },
        "language_info": {
            "codemirror_mode": {
                "name": "ipython",
                "version": 3
            },
            "file_extension": ".py",
            "mimetype": "text/x-python",
            "name": "python",
            "nbconvert_exporter": "python",
            "pygments_lexer": "ipython3",
            "version": "3.6.9"
        }
    },
    "nbformat": 4,
    "nbformat_minor": 1
}