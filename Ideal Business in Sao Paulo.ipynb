{
    "cells": [
        {
            "cell_type": "markdown",
            "metadata": {},
            "source": "# Ideal Business in Sao Paulo\n\nCommonly confused as Brazil's capital, Sao Paulo is undoubtedly the most important city in\nBrazil as well as in the Latin America. The city, Brazil's largest, is the country's largest city\nas well as the financial center. It also holds other characteristics such as:\n\n\t-The biggest city, in terms of population, in South America, Latin America \n\t and arguably the whole American continent.\n\t \t-SP: 21.6M (Note: Metropolis population)\n\t-Substantial contribution to the country's GDP.\n\t\t-11th largest city in the world by GDP\n\t \t-SP: 10.7% (Note: Metropolis contribution)\n\t-Multi-cultural and global city.\n\n## Problem/Idea\nAs such, Sao Paulo is known to be a very vibrant city full of opportunities. It is \nnot only a hotspot for business but also a hotspot for entertainment. In this city,\nyou can find a myriad of choices of international cuisine, world-known fashion\nbrands, high-end apartments, sports venues and many other things. It is also known\nfor its problems such as homelessness, violence,inequality, and overycrowding. \nNeverthless, it is a city full of opportunities, where thousands migrate to in look \nfor better opportunities. I will be looking for the best business opportunities for \nentrepeneurs who want to open a business in the city. \n\n## Data\nIn this project, I will be looking at data acquired from Foursquare, and other sources \nsuch as wikipedia, and state/government websites, about the businesses (their type) opportunities for \nentrepeneurs in this city. I will analyze the data and based these I will decide whatis the \nmost optimal type of business to open in the different districts of the city. For that, I will\nlook into demographic characteristics of the districts such as the development and median income.\n\nThe only challenge I may be facing is regarding the availability of the data. Despite it being \nthe most important city in the country, the bureaucracy and inefficiency of state-funded bodies \nin data collection and reporting could become a problem. \n\n"
        },
        {
            "cell_type": "code",
            "execution_count": null,
            "metadata": {},
            "outputs": [],
            "source": ""
        }
    ],
    "metadata": {
        "kernelspec": {
            "display_name": "Python 3.6",
            "language": "python",
            "name": "python3"
        },
        "language_info": {
            "codemirror_mode": {
                "name": "ipython",
                "version": 3
            },
            "file_extension": ".py",
            "mimetype": "text/x-python",
            "name": "python",
            "nbconvert_exporter": "python",
            "pygments_lexer": "ipython3",
            "version": "3.6.9"
        }
    },
    "nbformat": 4,
    "nbformat_minor": 1
}